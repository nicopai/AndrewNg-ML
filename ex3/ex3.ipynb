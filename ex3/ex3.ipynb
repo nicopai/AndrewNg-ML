{
 "cells": [
  {
   "cell_type": "code",
   "execution_count": 1,
   "metadata": {
    "collapsed": true
   },
   "outputs": [],
   "source": [
    "import time\n",
    "import pandas as pd\n",
    "import numpy as np\n",
    "import math"
   ]
  },
  {
   "cell_type": "code",
   "execution_count": 6,
   "metadata": {},
   "outputs": [],
   "source": [
    "import scipy.io as sio\n",
    "matlabData = sio.loadmat('ex3data1.mat')\n",
    "X = matlabData['X']\n",
    "y = matlabData['y']\n",
    "\n",
    "input_layer = 400\n",
    "num_labels = 10"
   ]
  },
  {
   "cell_type": "markdown",
   "metadata": {},
   "source": [
    "Part 1: Loading and Visualizing Data"
   ]
  },
  {
   "cell_type": "code",
   "execution_count": 10,
   "metadata": {},
   "outputs": [
    {
     "data": {
      "text/plain": [
       "array([2756, 1281, 3813, 2195, 3712, 4164, 1541, 3607, 1140,  825, 1002,\n",
       "       4629, 2443, 3202, 1348,  274, 2648, 3285, 1572, 2810, 3172,  549,\n",
       "        114, 1686, 3724, 3991, 3467, 4934, 2546,  908, 4808, 4544, 4455,\n",
       "       2255, 4350, 2110, 4049, 2142, 2474,  377, 2363, 4576, 3286, 2950,\n",
       "       3166,  901, 4610, 4313, 3250, 3882, 4042, 1576, 4151, 3254,  981,\n",
       "       2331, 4665,  829, 4126, 1913, 4218, 1440, 1962,  572, 4727,  249,\n",
       "       1631, 2906, 2501, 4873, 3173, 3709, 1997, 3124, 3038, 3282, 3789,\n",
       "       2915, 3040, 1509, 2907, 2316, 2259, 2367,  216, 1062, 3971, 1739,\n",
       "        462, 4921, 2909,  900, 3116, 3679, 3744,  541, 4434, 1307, 4033,\n",
       "       3731])"
      ]
     },
     "execution_count": 10,
     "metadata": {},
     "output_type": "execute_result"
    }
   ],
   "source": [
    "m,n = np.shape(X)\n",
    "np.random.permutation(m)[:100]"
   ]
  },
  {
   "cell_type": "code",
   "execution_count": null,
   "metadata": {
    "collapsed": true
   },
   "outputs": [],
   "source": []
  },
  {
   "cell_type": "code",
   "execution_count": null,
   "metadata": {
    "collapsed": true
   },
   "outputs": [],
   "source": []
  }
 ],
 "metadata": {
  "kernelspec": {
   "display_name": "Python 3",
   "language": "python",
   "name": "python3"
  },
  "language_info": {
   "codemirror_mode": {
    "name": "ipython",
    "version": 3
   },
   "file_extension": ".py",
   "mimetype": "text/x-python",
   "name": "python",
   "nbconvert_exporter": "python",
   "pygments_lexer": "ipython3",
   "version": "3.6.2"
  }
 },
 "nbformat": 4,
 "nbformat_minor": 2
}
