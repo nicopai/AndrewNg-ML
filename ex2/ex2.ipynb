{
 "cells": [
  {
   "cell_type": "code",
   "execution_count": 1,
   "metadata": {
    "collapsed": true
   },
   "outputs": [],
   "source": [
    "import pandas as pd\n",
    "import numpy as np"
   ]
  },
  {
   "cell_type": "markdown",
   "metadata": {},
   "source": [
    "Part 1: Plotting the data"
   ]
  },
  {
   "cell_type": "code",
   "execution_count": 2,
   "metadata": {
    "collapsed": true
   },
   "outputs": [],
   "source": [
    "%matplotlib inline\n",
    "import matplotlib.pyplot as plt\n",
    "def plotData(X: np.array, y: np.array) -> None:\n",
    "    pos = X[y==1,:]\n",
    "    neg = X[y==0,:]\n",
    "    plt.scatter(pos[:,0],pos[:,1],marker='+')\n",
    "    plt.scatter(neg[:,0],neg[:,1],marker='o')"
   ]
  },
  {
   "cell_type": "code",
   "execution_count": 3,
   "metadata": {},
   "outputs": [
    {
     "data": {
      "text/plain": [
       "<matplotlib.legend.Legend at 0x110653a58>"
      ]
     },
     "execution_count": 3,
     "metadata": {},
     "output_type": "execute_result"
    },
    {
     "data": {
      "image/png": "[encoded data removed]",
      "text/plain": [
       "<matplotlib.figure.Figure at 0x1106539e8>"
      ]
     },
     "metadata": {},
     "output_type": "display_data"
    }
   ],
   "source": [
    "data = pd.read_csv('ex2Data1.txt',header=None) \n",
    "X = data.iloc[:,:2].values\n",
    "y = data.iloc[:,2].values\n",
    "m = len(y)\n",
    "plotData(X,y)\n",
    "plt.xlabel(\"Exam 1 score\")\n",
    "plt.ylabel(\"Exam 2 score\")\n",
    "plt.legend(['Admitted','Not Admitted'])"
   ]
  },
  {
   "cell_type": "markdown",
   "metadata": {},
   "source": [
    "Part 2: Compute Cost and Gradient"
   ]
  },
  {
   "cell_type": "code",
   "execution_count": 4,
   "metadata": {
    "collapsed": true
   },
   "outputs": [],
   "source": [
    "def sigmoid(x: np.array) -> np.array:\n",
    "    return 1/(1+np.exp(-x))"
   ]
  },
  {
   "cell_type": "code",
   "execution_count": 5,
   "metadata": {
    "collapsed": true
   },
   "outputs": [],
   "source": [
    "def costFunction(theta: np.array, X: np.array, y: np.array) -> (float, np.array):\n",
    "    m = len(y)\n",
    "    h = sigmoid(X.dot(theta))\n",
    "    log_h = np.log(h)\n",
    "    log_1_h = np.log(1-h)\n",
    "    J = 1/m *(-y.T.dot(log_h) - (1-y).T.dot(log_1_h))\n",
    "    grad = 1/m * X.T.dot(h - y)\n",
    "    return J, grad\n",
    "\n",
    "def costOnly(theta: np.array, X: np.array, y: np.array) -> float:\n",
    "    m = len(y)\n",
    "    h = sigmoid(X.dot(theta))\n",
    "    log_h = np.log(h)\n",
    "    log_1_h = np.log(1-h)\n",
    "    J = 1/m *(-y.T.dot(log_h) - (1-y).T.dot(log_1_h))\n",
    "    return J\n",
    "\n",
    "def gradientOnly(theta: np.array, X: np.array, y: np.array) ->  np.array:\n",
    "    m = len(y)\n",
    "    h = sigmoid(X.dot(theta))\n",
    "    log_h = np.log(h)\n",
    "    log_1_h = np.log(1-h)\n",
    "    grad = 1/m * X.T.dot(h - y)\n",
    "    return grad\n",
    "\n"
   ]
  },
  {
   "cell_type": "code",
   "execution_count": 6,
   "metadata": {},
   "outputs": [
    {
     "name": "stdout",
     "output_type": "stream",
     "text": [
      "Cost at initial theta (zeros): 0.693\n",
      "Expected cost (approx): 0.693\n",
      "\n",
      "Gradient at initial theta (zeros):\n",
      "[ -0.1        -12.00921659 -11.26284221]\n",
      "Expected gradients (approx):\n",
      " -0.1000\n",
      " -12.0092\n",
      " -11.2628\n",
      "\n"
     ]
    }
   ],
   "source": [
    "X = np.c_[np.ones(m),data.iloc[:,:2].values]\n",
    "m, n = np.shape(X)\n",
    "initial_theta = np.zeros(n)\n",
    "cost, grad = costFunction(initial_theta, X, y)\n",
    "\n",
    "print('Cost at initial theta (zeros): {:.3f}'.format(cost))\n",
    "print('Expected cost (approx): 0.693\\n');\n",
    "print('Gradient at initial theta (zeros):');\n",
    "print('{}'.format(grad));\n",
    "print('Expected gradients (approx):\\n -0.1000\\n -12.0092\\n -11.2628\\n');\n"
   ]
  },
  {
   "cell_type": "code",
   "execution_count": 7,
   "metadata": {},
   "outputs": [
    {
     "name": "stdout",
     "output_type": "stream",
     "text": [
      "Cost at initial theta (zeros): 0.218\n",
      "Expected cost (approx): 0.218\n",
      "\n",
      "Gradient at test theta (zeros):\n",
      "[ 0.04290299  2.56623412  2.64679737]\n",
      "Expected gradients (approx):\n",
      " 0.043\n",
      " 2.566\n",
      " 2.647\n",
      "\n"
     ]
    }
   ],
   "source": [
    "test_theta = np.array([-24, 0.2, 0.2])\n",
    "cost, grad = costFunction(test_theta, X, y);\n",
    "\n",
    "print('Cost at initial theta (zeros): {:.3f}'.format(cost))\n",
    "print('Expected cost (approx): 0.218\\n');\n",
    "print('Gradient at test theta (zeros):');\n",
    "print('{}'.format(grad));\n",
    "print('Expected gradients (approx):\\n 0.043\\n 2.566\\n 2.647\\n');\n"
   ]
  },
  {
   "cell_type": "markdown",
   "metadata": {},
   "source": [
    "Part 3: Optimizing to find Minimum"
   ]
  },
  {
   "cell_type": "code",
   "execution_count": 8,
   "metadata": {
    "collapsed": true
   },
   "outputs": [],
   "source": [
    "import scipy.optimize as op\n",
    "result = op.minimize(fun = costOnly,x0 = initial_theta, args = (X, y), method = 'TNC', jac = gradientOnly)"
   ]
  },
  {
   "cell_type": "code",
   "execution_count": 9,
   "metadata": {},
   "outputs": [
    {
     "name": "stdout",
     "output_type": "stream",
     "text": [
      "Cost at theta found with scipy and TNC method:{:.3d} 0.20349770158947486\n",
      "Expected cost (approx): 0.203\n",
      "\n",
      "theta: \n",
      "\n",
      "[-25.16131856   0.20623159   0.20147149]\n",
      "Expected theta (approx):\n",
      "\n",
      " -25.161\n",
      " 0.206\n",
      " 0.201\n",
      "\n"
     ]
    }
   ],
   "source": [
    "print('Cost at theta found with scipy and TNC method:{:.3d}',format(result.fun))\n",
    "print('Expected cost (approx): 0.203\\n')\n",
    "print('theta: \\n')\n",
    "print('{}'.format(result.x));\n",
    "print('Expected theta (approx):\\n');\n",
    "print(' -25.161\\n 0.206\\n 0.201\\n');"
   ]
  },
  {
   "cell_type": "code",
   "execution_count": 10,
   "metadata": {
    "collapsed": true
   },
   "outputs": [],
   "source": [
    "def plotDecisionBoundary(theta: np.array, X: np.array, y: np.array) -> None:\n",
    "    plotData(X[:,1:3],y)\n",
    "    m,n = np.shape(X)\n",
    "    plot_X = np.array([min(X[:,2]),max(X[:,2])])\n",
    "    plot_y = -1/theta[2]*(theta[1]*plot_X + theta[0])\n",
    "    plt.plot(plot_X,plot_y)\n",
    "    plt.legend([ 'Decision Boundary','Non admitted','Admitted'])"
   ]
  },
  {
   "cell_type": "code",
   "execution_count": 12,
   "metadata": {},
   "outputs": [
    {
     "data": {
      "image/png": "[encoded data removed]",
      "text/plain": [
       "<matplotlib.figure.Figure at 0x151aa33630>"
      ]
     },
     "metadata": {},
     "output_type": "display_data"
    }
   ],
   "source": [
    "theta = result.x\n",
    "plotDecisionBoundary(theta, X, y)"
   ]
  },
  {
   "cell_type": "markdown",
   "metadata": {},
   "source": [
    "Part 4: Predict and Accuracies"
   ]
  },
  {
   "cell_type": "code",
   "execution_count": 13,
   "metadata": {},
   "outputs": [
    {
     "name": "stdout",
     "output_type": "stream",
     "text": [
      "For a student with scores 45 and 85, we predict an admission probability of 0.776\n",
      "Expected value: 0.775 +/- 0.002\n",
      "\n",
      "\n"
     ]
    }
   ],
   "source": [
    "prob = sigmoid(np.array([1, 45, 85]).T.dot(theta))\n",
    "print('For a student with scores 45 and 85, we predict an admission probability of {:.3f}'.format( prob));\n",
    "print('Expected value: 0.775 +/- 0.002\\n\\n');"
   ]
  },
  {
   "cell_type": "code",
   "execution_count": 14,
   "metadata": {
    "collapsed": true
   },
   "outputs": [],
   "source": [
    "def predict(theta: np.array, X: np.array) -> np.array:\n",
    "    return np.int32(sigmoid(X.dot(theta)) >= 0.5)"
   ]
  },
  {
   "cell_type": "code",
   "execution_count": 15,
   "metadata": {},
   "outputs": [
    {
     "name": "stdout",
     "output_type": "stream",
     "text": [
      "Train Accuracy: 89.0\n",
      "\n",
      "Expected accuracy (approx): 89.0\n",
      "\n",
      "\n",
      "\n"
     ]
    }
   ],
   "source": [
    "p = predict(theta, X)\n",
    "print('Train Accuracy: {:.1f}\\n'.format(np.mean(np.float32(p == y)) * 100))\n",
    "print('Expected accuracy (approx): 89.0\\n');\n",
    "print('\\n');"
   ]
  },
  {
   "cell_type": "code",
   "execution_count": null,
   "metadata": {
    "collapsed": true
   },
   "outputs": [],
   "source": []
  }
 ],
 "metadata": {
  "kernelspec": {
   "display_name": "Python 3",
   "language": "python",
   "name": "python3"
  },
  "language_info": {
   "codemirror_mode": {
    "name": "ipython",
    "version": 3
   },
   "file_extension": ".py",
   "mimetype": "text/x-python",
   "name": "python",
   "nbconvert_exporter": "python",
   "pygments_lexer": "ipython3",
   "version": "3.6.2"
  }
 },
 "nbformat": 4,
 "nbformat_minor": 2
}
